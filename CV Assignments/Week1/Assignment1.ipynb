{
 "cells": [
  {
   "cell_type": "markdown",
   "metadata": {
    "ExecuteTime": {
     "end_time": "2019-04-03T01:58:58.105578Z",
     "start_time": "2019-04-03T01:58:58.101027Z"
    }
   },
   "source": [
    "## Image Basic Operations"
   ]
  },
  {
   "cell_type": "code",
   "execution_count": 1,
   "metadata": {
    "ExecuteTime": {
     "end_time": "2019-04-03T01:52:57.747247Z",
     "start_time": "2019-04-03T01:52:57.424445Z"
    },
    "pycharm": {
     "is_executing": false
    }
   },
   "outputs": [],
   "source": [
    "import random\n",
    "import numpy as np\n",
    "import cv2 as cv\n",
    "from matplotlib import pyplot as plt"
   ]
  },
  {
   "cell_type": "code",
   "execution_count": 2,
   "metadata": {
    "ExecuteTime": {
     "end_time": "2019-04-03T01:52:58.820669Z",
     "start_time": "2019-04-03T01:52:58.805237Z"
    }
   },
   "outputs": [],
   "source": [
    "img_gray = cv.imread('data/cat.jpg', 2)"
   ]
  },
  {
   "cell_type": "code",
   "execution_count": 3,
   "metadata": {
    "ExecuteTime": {
     "end_time": "2019-04-03T01:53:45.575154Z",
     "start_time": "2019-04-03T01:53:42.565899Z"
    }
   },
   "outputs": [],
   "source": [
    "cv.imshow('cat', img_gray)\n",
    "key = cv.waitKey(3000)\n",
    "# if key == 27:                     # not work in jupyter notebook (ubuntu 18.0.4)\n",
    "#     cv.destroyWindow('cat')\n",
    "cv.destroyAllWindows()\n",
    "\n",
    "# key =  cv.waitKey(0)\n",
    "# if key == 27:\n",
    "#     cv.destroyAllWindows()"
   ]
  },
  {
   "cell_type": "code",
   "execution_count": 64,
   "metadata": {
    "ExecuteTime": {
     "end_time": "2019-04-03T01:49:04.593243Z",
     "start_time": "2019-04-03T01:49:04.578696Z"
    },
    "collapsed": true
   },
   "outputs": [
    {
     "data": {
      "text/plain": [
       "array([[224, 225, 226, ..., 191, 191, 191],\n",
       "       [230, 230, 231, ..., 191, 191, 191],\n",
       "       [232, 233, 233, ..., 191, 191, 191],\n",
       "       ...,\n",
       "       [248, 242, 230, ..., 216, 250, 254],\n",
       "       [238, 239, 250, ..., 239, 242, 242],\n",
       "       [255, 240, 215, ..., 239, 242, 242]], dtype=uint8)"
      ]
     },
     "execution_count": 64,
     "metadata": {},
     "output_type": "execute_result"
    }
   ],
   "source": [
    "img_gray"
   ]
  },
  {
   "cell_type": "code",
   "execution_count": 10,
   "metadata": {},
   "outputs": [
    {
     "data": {
      "text/plain": [
       "dtype('uint8')"
      ]
     },
     "execution_count": 10,
     "metadata": {},
     "output_type": "execute_result"
    }
   ],
   "source": [
    "# show image matrix\n",
    "img_gray.dtype"
   ]
  },
  {
   "cell_type": "code",
   "execution_count": 17,
   "metadata": {},
   "outputs": [
    {
     "data": {
      "text/plain": [
       "(690, 690)"
      ]
     },
     "execution_count": 17,
     "metadata": {},
     "output_type": "execute_result"
    }
   ],
   "source": [
    "# show image data type\n",
    "img_gray.shape"
   ]
  },
  {
   "cell_type": "code",
   "execution_count": 19,
   "metadata": {},
   "outputs": [
    {
     "data": {
      "text/plain": [
       "(690, 690)"
      ]
     },
     "execution_count": 19,
     "metadata": {},
     "output_type": "execute_result"
    }
   ],
   "source": [
    "# Show image shape: h, w\n",
    "img_gray.shape"
   ]
  },
  {
   "cell_type": "code",
   "execution_count": 4,
   "metadata": {},
   "outputs": [],
   "source": [
    "img = cv.imread('data/cat.jpg')"
   ]
  },
  {
   "cell_type": "code",
   "execution_count": 5,
   "metadata": {},
   "outputs": [],
   "source": [
    "cv.imshow('cat', img)\n",
    "cv.waitKey(3000)\n",
    "cv.destroyAllWindows()"
   ]
  },
  {
   "cell_type": "code",
   "execution_count": 66,
   "metadata": {},
   "outputs": [],
   "source": [
    "img;"
   ]
  },
  {
   "cell_type": "code",
   "execution_count": 24,
   "metadata": {},
   "outputs": [
    {
     "data": {
      "text/plain": [
       "(690, 690, 3)"
      ]
     },
     "execution_count": 24,
     "metadata": {},
     "output_type": "execute_result"
    }
   ],
   "source": [
    "# Show image shape with channels: h, w, c\n",
    "img.shape\n"
   ]
  },
  {
   "cell_type": "code",
   "execution_count": 33,
   "metadata": {},
   "outputs": [],
   "source": [
    "# Image crop\n",
    "img_crop = img[50:400,100:600]\n",
    "cv.imshow('img_crop', img_crop)\n",
    "cv.waitKey(3000)\n",
    "cv.destroyAllWindows()"
   ]
  },
  {
   "cell_type": "code",
   "execution_count": 37,
   "metadata": {},
   "outputs": [],
   "source": [
    "# Color split\n",
    "B, G, R = cv.split(img)\n",
    "cv.imshow('B', B)\n",
    "cv.imshow('G', G)\n",
    "cv.imshow('R', R)\n",
    "cv.waitKey(3000)\n",
    "cv.destroyAllWindows()"
   ]
  },
  {
   "cell_type": "code",
   "execution_count": 59,
   "metadata": {},
   "outputs": [
    {
     "name": "stdout",
     "output_type": "stream",
     "text": [
      "-50\n",
      "34\n",
      "27\n"
     ]
    }
   ],
   "source": [
    "# Change color\n",
    "def random_light_color(img):\n",
    "    B, G, R = cv.split(img)\n",
    "    \n",
    "    for i in [B, G, R]:\n",
    "        rand = random.randint(-50, 50)\n",
    "        #print(rand)\n",
    "        if rand == 0:\n",
    "            pass\n",
    "        elif rand > 0:\n",
    "            lim = 255 - rand\n",
    "            i[i>lim] = 255\n",
    "            i[i<=lim] = (rand + i[i<=lim]).astype(img.dtype)\n",
    "        else:\n",
    "            lim = 0 - rand\n",
    "            i[i<lim] = 0\n",
    "            i[i>=lim] = (rand + i[i>=lim]).astype(img.dtype)\n",
    "    img_merge = cv.merge((B, G, R))\n",
    "    \n",
    "    return img_merge\n",
    "\n",
    "img_random_color = random_light_color(img)\n",
    "cv.imshow('img_random_color', img_random_color)\n",
    "cv.waitKey(3000)\n",
    "cv.destroyAllWindows()"
   ]
  },
  {
   "cell_type": "code",
   "execution_count": 67,
   "metadata": {},
   "outputs": [],
   "source": [
    "# Gamma correction\n",
    "def adjust_gamma(img, gamma=1.0):\n",
    "    \"\"\"Adjust gamma value.\"\"\"\n",
    "    inv_gamma = 1.0 / gamma\n",
    "    table = []\n",
    "    for i in range(256):\n",
    "        table.append(((i/255.0)**inv_gamma)*255)\n",
    "    table = np.array(table).astype('uint8')\n",
    "    return cv.LUT(img, table)\n",
    "    \n",
    "img_dark = cv.imread('data/cat.jpg')\n",
    "img_brighter = adjust_gamma(img_dark, 2)\n",
    "cv.imshow('img_dark', img_dark)\n",
    "cv.imshow('img_brighter', img_brighter)\n",
    "cv.waitKey(5000)\n",
    "cv.destroyAllWindows()"
   ]
  },
  {
   "cell_type": "code",
   "execution_count": 75,
   "metadata": {},
   "outputs": [
    {
     "data": {
      "image/png": "[encoded data removed]",
      "text/plain": [
       "<Figure size 432x288 with 1 Axes>"
      ]
     },
     "metadata": {
      "needs_background": "light"
     },
     "output_type": "display_data"
    }
   ],
   "source": [
    "# Histgram\n",
    "img_small_brighter = cv.resize(img_brighter,\n",
    "                               (int(img_brighter.shape[0]*0.5), int(img_brighter.shape[1]*0.5)))\n",
    "plt.hist(img_brighter.flatten(), 256, [0, 256], color='r')\n",
    "\n",
    "img_yuv = cv.cvtColor(img_small_brighter, cv.COLOR_BGR2YUV)\n",
    "# Equalize the histogram of the Y channel.\n",
    "img_yuv[:, :, 0] = cv.equalizeHist(img_yuv[:,:,0])\n",
    "# Convert the YUV image back to RGB format.\n",
    "img_output = cv.cvtColor(img_yuv, cv.COLOR_YUV2BGR)\n",
    "\n",
    "cv.imshow('Color input image', img_small_brighter)\n",
    "cv.imshow('Histogram equalized', img_output)\n",
    "cv.waitKey(5000)\n",
    "cv.destroyAllWindows()"
   ]
  },
  {
   "cell_type": "code",
   "execution_count": 12,
   "metadata": {},
   "outputs": [],
   "source": [
    "# Rotation\n",
    "M = cv.getRotationMatrix2D((img.shape[1]/2, img.shape[0]/2), 30, 1)\n",
    "img_rotate = cv.warpAffine(img, M, (img.shape[1], img.shape[0]))\n",
    "cv.imshow('rotated cat', img_rotate)\n",
    "cv.waitKey(5000)\n",
    "cv.destroyAllWindows()\n",
    "M"
   ]
  },
  {
   "cell_type": "code",
   "execution_count": 13,
   "metadata": {},
   "outputs": [],
   "source": [
    "M[0][2] = M[1][2] = 0 \n",
    "img_rotate2 = cv.warpAffine(img, M, (img.shape[1], img.shape[0]))\n",
    "cv.imshow('rotated cat', img_rotate2)\n",
    "cv.waitKey(5000)\n",
    "cv.destroyAllWindows()\n",
    "M"
   ]
  },
  {
   "cell_type": "code",
   "execution_count": 17,
   "metadata": {},
   "outputs": [
    {
     "data": {
      "text/plain": [
       "array([[ 4.33012702e-01,  2.50000000e-01,  1.09360618e+02],\n",
       "       [-2.50000000e-01,  4.33012702e-01,  2.81860618e+02]])"
      ]
     },
     "execution_count": 17,
     "metadata": {},
     "output_type": "execute_result"
    }
   ],
   "source": [
    "# Scale + rotation + translation = similarity transform\n",
    "M = cv.getRotationMatrix2D((img.shape[1]/2, img.shape[0]/2), 30, 0.5)  # center, angle, scale\n",
    "img_rotate = cv.warpAffine(img, M, (img.shape[1], img.shape[0]))\n",
    "cv.imshow('rotated cat', img_rotate)\n",
    "cv.waitKey(5000)\n",
    "cv.destroyAllWindows()\n",
    "M"
   ]
  },
  {
   "cell_type": "code",
   "execution_count": 20,
   "metadata": {},
   "outputs": [],
   "source": [
    "# Affine Transform\n",
    "rows, cols, ch = img.shape\n",
    "pts1 = np.float32([[0, 0], [cols-1, 0], [0, rows-1]])\n",
    "pts2 = np.float32([[cols * 0.2, rows * 0.1], [cols * 0.9, rows * 0.2], [cols * 0.1, rows * 0.9]])\n",
    "\n",
    "M = cv.getAffineTransform(pts1, pts2)\n",
    "dst = cv.warpAffine(img, M, (cols, rows))\n",
    "cv.imshow('Affine cat', dst)\n",
    "cv.waitKey(5000)\n",
    "cv.destroyAllWindows()"
   ]
  },
  {
   "cell_type": "code",
   "execution_count": 21,
   "metadata": {},
   "outputs": [],
   "source": [
    "# Perspective transform\n",
    "def random_warp(img, row, col):\n",
    "    \n",
    "    height, width, channels = img.shape\n",
    "    random_margin = 60\n",
    "    x1 = random.randint(-random_margin, random_margin)\n",
    "    y1 = random.randint(-random_margin, random_margin)\n",
    "    x2 = random.randint(width - random_margin - 1, width - 1)\n",
    "    y2 = random.randint(-random_margin, random_margin)\n",
    "    x3 = random.randint(width - random_margin - 1, width - 1)\n",
    "    y3 = random.randint(height - random_margin - 1, height - 1)\n",
    "    x4 = random.randint(-random_margin, random_margin)\n",
    "    y4 = random.randint(height - random_margin - 1, height - 1)\n",
    "\n",
    "    dx1 = random.randint(-random_margin, random_margin)\n",
    "    dy1 = random.randint(-random_margin, random_margin)\n",
    "    dx2 = random.randint(width - random_margin - 1, width - 1)\n",
    "    dy2 = random.randint(-random_margin, random_margin)\n",
    "    dx3 = random.randint(width - random_margin - 1, width - 1)\n",
    "    dy3 = random.randint(height - random_margin - 1, height - 1)\n",
    "    dx4 = random.randint(-random_margin, random_margin)\n",
    "    dy4 = random.randint(height - random_margin - 1, height - 1)\n",
    "\n",
    "    pts1 = np.float32([[x1, y1], [x2, y2], [x3, y3], [x4, y4]])\n",
    "    pts2 = np.float32([[dx1, dy1], [dx2, dy2], [dx3, dy3], [dx4, dy4]])\n",
    "    M_warp = cv.getPerspectiveTransform(pts1, pts2)\n",
    "    img_warp = cv.warpPerspective(img, M_warp, (width, height))\n",
    "    \n",
    "    return M_warp, img_warp\n",
    "\n",
    "M_warp, img_warp = random_warp(img, img.shape[0], img.shape[1])\n",
    "cv.imshow('warp cat', img_warp)\n",
    "cv.waitKey(5000)\n",
    "cv.destroyAllWindows()"
   ]
  },
  {
   "cell_type": "code",
   "execution_count": null,
   "metadata": {},
   "outputs": [],
   "source": []
  }
 ],
 "metadata": {
  "kernelspec": {
   "display_name": "my-virtualenv-name",
   "language": "python",
   "name": "my-virtualenv-name"
  },
  "language_info": {
   "codemirror_mode": {
    "name": "ipython",
    "version": 3
   },
   "file_extension": ".py",
   "mimetype": "text/x-python",
   "name": "python",
   "nbconvert_exporter": "python",
   "pygments_lexer": "ipython3",
   "version": "3.6.7"
  },
  "toc": {
   "base_numbering": 1,
   "nav_menu": {},
   "number_sections": true,
   "sideBar": true,
   "skip_h1_title": false,
   "title_cell": "Table of Contents",
   "title_sidebar": "Contents",
   "toc_cell": false,
   "toc_position": {},
   "toc_section_display": true,
   "toc_window_display": false
  }
 },
 "nbformat": 4,
 "nbformat_minor": 1
}
